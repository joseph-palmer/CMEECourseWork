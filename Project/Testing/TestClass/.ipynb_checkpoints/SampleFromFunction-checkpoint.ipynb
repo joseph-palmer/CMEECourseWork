{
 "cells": [
  {
   "cell_type": "markdown",
   "metadata": {},
   "source": [
    "# Sampling from specified functions.\n",
    "## Joseph Palmer: jpalmer18@imperial.ac.uk\n",
    "### Royal Holloway University of London\n",
    "### Imperial College London\n",
    "### May 2019\n",
    "---\n",
    "\n",
    "The method to sample from a function is as follows:\n",
    "\n",
    "First sample from a uniform distribution bound from 0 to 1.\n",
    "Pass the numbers into the inverse of the CDF of the target distribution.\n",
    "The output numbers satisfy the distribution of the original function.\n",
    "\n",
    "The following example uses an exponential distribution:\n",
    "\n",
    "$f(x) = \\lambda e^{-\\lambda x}$. \n",
    "\n",
    "The cumulative density function is:\n",
    "\n",
    "$P(x) = 1 - e^{-\\lambda x}$.\n",
    "\n",
    "The Inverse of this is:\n",
    "\n",
    "$P(x)^{-1} = -\\frac{1}{\\lambda} \\ln{u}$, where $u$ is a uniform random quantity.\n",
    "\n",
    "These steps will need to be repeated for each function you want to test. \n",
    "\n",
    "__Resources:__ \n",
    "\n",
    "http://www.mas.ncl.ac.uk/~ndjw1/teaching/sim/transf/exp.html\n",
    "https://sciencehouse.wordpress.com/2015/06/20/sampling-from-a-probability-distribution/\n",
    "https://blogs.sas.com/content/iml/2013/07/22/the-inverse-cdf-method.html\n",
    "https://www.symbolab.com/solver/function-inverse-https://www.wolframalpha.com/widgets/view.jsp?id=d08726019e4a2a15cb1d49092e4d0522"
   ]
  },
  {
   "cell_type": "code",
   "execution_count": 1,
   "metadata": {},
   "outputs": [],
   "source": [
    "# Imports\n",
    "import pandas as pd\n",
    "import numpy as np\n",
    "from mletools import runmle\n",
    "import mletools\n",
    "import matplotlib.pyplot as plt"
   ]
  },
  {
   "cell_type": "code",
   "execution_count": 4,
   "metadata": {},
   "outputs": [],
   "source": [
    "# testing function - inverse cdf of exponential (see 1st item in resource list) -\n",
    "def InvExpCDF(params, x):\n",
    "    rate = 1 / params[0]\n",
    "    return (-1/rate) * np.log(x)\n"
   ]
  },
  {
   "cell_type": "code",
   "execution_count": 3,
   "metadata": {},
   "outputs": [
    {
     "name": "stdout",
     "output_type": "stream",
     "text": [
      "Provided rate   = 1.8\n",
      "Analytical rate = 1.7182805084143196\n",
      "simulated  rate = 1.7182805213522465\n",
      "\n",
      "Model Output\n",
      "\n",
      "      fun: 458.67591362265955\n",
      " hess_inv: <1x1 LbfgsInvHessProduct with dtype=float64>\n",
      "      jac: array([0.])\n",
      "  message: b'CONVERGENCE: NORM_OF_PROJECTED_GRADIENT_<=_PGTOL'\n",
      "     nfev: 20\n",
      "      nit: 8\n",
      "   status: 0\n",
      "  success: True\n",
      "        x: array([1.71828052])\n",
      "\n",
      "Plot\n"
     ]
    },
    {
     "data": {
      "image/png": "[encoded data removed]",
      "text/plain": [
       "<Figure size 432x288 with 1 Axes>"
      ]
     },
     "metadata": {
      "needs_background": "light"
     },
     "output_type": "display_data"
    }
   ],
   "source": [
    "# sample from uniform distribution to input into function\n",
    "n = 1000\n",
    "sample = np.random.uniform(0, 1, n)\n",
    "p = 1.8\n",
    "newdata = InvExpCDF([1/p], sample)\n",
    "\n",
    "# run the model and generate plots\n",
    "mod = runmle(data = newdata, startest = [0.1], method = \"exponential\")\n",
    "model = mod.ModelData()\n",
    "pred = mod.MLEPredict(model)\n",
    "cis = mod.Getci2p(model)\n",
    "pred2 = mod.MLEPredictCI(cis, pred)\n",
    "fig = mod.PredictFig(pred2)\n",
    "\n",
    "# display results and check\n",
    "print(\"Provided rate   = {}\\n\"\n",
    "      \"Analytical rate = {}\\n\"\n",
    "      \"simulated  rate = {}\\n\\n\"\n",
    "      \"Model Output\\n\\n{}\\n\\nPlot\".format(p, n/sum(newdata), model.x[0], model))"
   ]
  },
  {
   "cell_type": "code",
   "execution_count": 34,
   "metadata": {},
   "outputs": [],
   "source": []
  }
 ],
 "metadata": {
  "kernelspec": {
   "display_name": "Python 3",
   "language": "python",
   "name": "python3"
  },
  "language_info": {
   "codemirror_mode": {
    "name": "ipython",
    "version": 3
   },
   "file_extension": ".py",
   "mimetype": "text/x-python",
   "name": "python",
   "nbconvert_exporter": "python",
   "pygments_lexer": "ipython3",
   "version": "3.6.7"
  }
 },
 "nbformat": 4,
 "nbformat_minor": 2
}
