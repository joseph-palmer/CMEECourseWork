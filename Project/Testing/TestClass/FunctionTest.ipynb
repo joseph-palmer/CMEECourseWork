{
 "cells": [
  {
   "cell_type": "markdown",
   "metadata": {},
   "source": [
    "# Sampling from specified functions.\n",
    "## Joseph Palmer: jpalmer18@imperial.ac.uk\n",
    "### Royal Holloway University of London\n",
    "### Imperial College London\n",
    "### May 2019\n",
    "---\n",
    "\n",
    "The method to sample from a function is as follows:\n",
    "\n",
    "First sample from a uniform distribution bound from 0 to 1.\n",
    "Pass the numbers into the inverse of the CDF of the target distribution.\n",
    "The output numbers satisfy the distribution of the original function.\n",
    "\n",
    "The following example uses an exponential distribution:\n",
    "\n",
    "$f(x) = \\lambda e^{-\\lambda x}$. \n",
    "\n",
    "The cumulative density function is:\n",
    "\n",
    "$P(x) = 1 - e^{-\\lambda x}$.\n",
    "\n",
    "The Inverse of this is:\n",
    "\n",
    "$P(x)^{-1} = -\\ln{1 - \\lambda x}$\n",
    "\n",
    "Resources: \n",
    "\n",
    "https://sciencehouse.wordpress.com/2015/06/20/sampling-from-a-probability-distribution/\n",
    "https://blogs.sas.com/content/iml/2013/07/22/the-inverse-cdf-method.html\n",
    "https://www.symbolab.com/solver/function-inverse-https://www.wolframalpha.com/widgets/view.jsp?id=d08726019e4a2a15cb1d49092e4d0522"
   ]
  },
  {
   "cell_type": "code",
   "execution_count": 56,
   "metadata": {},
   "outputs": [],
   "source": [
    "# Imports\n",
    "import pandas as pd\n",
    "import numpy as np\n",
    "from mletools import runmle\n",
    "import mletools\n",
    "import matplotlib.pyplot as plt\n",
    "\n",
    "# Load data into pandas dataframe and subset by locations\n",
    "path = \"~/Documents/CMEE/CMEECourseWork/Miniproject/Data/Distances.csv\"\n",
    "data = pd.read_csv(path)\n",
    "rural_dist = data[\"Distance_Km\"][data[\"Location\"] == \"ROT\"]\n",
    "urban_dist = data[\"Distance_Km\"][data[\"Location\"] == \"ZSL\"]"
   ]
  },
  {
   "cell_type": "code",
   "execution_count": 75,
   "metadata": {},
   "outputs": [],
   "source": [
    "# testing function - exponential -\n",
    "def InvExpCDF(params, x):\n",
    "    rate = 1 / params[0]\n",
    "    return - np.log(1 - rate) / x\n"
   ]
  },
  {
   "cell_type": "code",
   "execution_count": 78,
   "metadata": {},
   "outputs": [
    {
     "data": {
      "text/plain": [
       "      fun: 3235.903830443058\n",
       " hess_inv: <1x1 LbfgsInvHessProduct with dtype=float64>\n",
       "      jac: array([-9.09494702e-05])\n",
       "  message: b'CONVERGENCE: REL_REDUCTION_OF_F_<=_FACTR*EPSMCH'\n",
       "     nfev: 12\n",
       "      nit: 3\n",
       "   status: 0\n",
       "  success: True\n",
       "        x: array([0.10689546])"
      ]
     },
     "execution_count": 78,
     "metadata": {},
     "output_type": "execute_result"
    },
    {
     "data": {
      "image/png": "[encoded data removed]",
      "text/plain": [
       "<Figure size 432x288 with 1 Axes>"
      ]
     },
     "metadata": {
      "needs_background": "light"
     },
     "output_type": "display_data"
    }
   ],
   "source": [
    "# sample from uniform distribution to input into functions\n",
    "n = 1000\n",
    "sample = np.random.uniform(0, 1, n)\n",
    "\n",
    "newdata = InvExpCDF([1.8], sample)\n",
    "\n",
    "#newdata = np.random.exponential(1/1.8, n)\n",
    "#print(newdata)\n",
    "\n",
    "\n",
    "mod = runmle(data = newdata, startest = [0.1], method = \"exponential\")\n",
    "\n",
    "model = mod.ModelData()\n",
    "\n",
    "pred = mod.MLEPredict(model)\n",
    "cis = mod.Getci2p(model)\n",
    "pred2 = mod.MLEPredictCI(cis, pred)\n",
    "fig = mod.PredictFig(pred2)\n",
    "\n",
    "\n",
    "model\n",
    "\n"
   ]
  },
  {
   "cell_type": "code",
   "execution_count": 34,
   "metadata": {},
   "outputs": [],
   "source": []
  }
 ],
 "metadata": {
  "kernelspec": {
   "display_name": "Python 3",
   "language": "python",
   "name": "python3"
  },
  "language_info": {
   "codemirror_mode": {
    "name": "ipython",
    "version": 3
   },
   "file_extension": ".py",
   "mimetype": "text/x-python",
   "name": "python",
   "nbconvert_exporter": "python",
   "pygments_lexer": "ipython3",
   "version": "3.6.7"
  }
 },
 "nbformat": 4,
 "nbformat_minor": 2
}
