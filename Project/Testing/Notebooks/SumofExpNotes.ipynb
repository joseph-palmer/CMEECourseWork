{
 "cells": [
  {
   "cell_type": "markdown",
   "metadata": {},
   "source": [
    "# Sum of exponentials equations\n",
    "### Joseph Palmer: <joseph.palmer18@imperial.ac.uk>\n",
    "### MSc. CMEE Project\n",
    "### 08/05/2019\n",
    "---\n",
    "\n",
    "### All paramaters\n",
    "The aim is to create a model which uses a sum of exponentials to fit data exhibiting power law properties. The model is as follows where $n$ is the total length of $x$ (how much data there is).\n",
    "\n",
    "\\begin{equation}\n",
    "p_1 \\lambda_1 e^{-\\lambda_1 x} + p_2 \\lambda_2 e^{-\\lambda_2 x} + ... + (1 - p1 - p2,...,p_n) \\lambda_n e^{-\\lambda_n x}\n",
    "\\end{equation}\n",
    "\n",
    "### Two paramaters\n",
    "The sum of exponentials with two probability values ($p$) is as follows:\n",
    "\n",
    "\\begin{equation}\n",
    "f(x) = p_1 \\lambda_1 e^{-\\lambda_1 x} + (1 - p_1) \\lambda_2 e^{-\\lambda_2 x}\n",
    "\\end{equation}\n",
    "\n",
    "The objective is to find the best estimates of $p_1$, $\\lambda_1$ and $\\lambda_2$ with the highest loglikelihood.\n",
    "\n",
    "The __Cummulative Density Function (CDF)__ is the integral of the pdf above:\n",
    "\n",
    "\\begin{equation}\n",
    "\\int_{-\\infty}^{x} f(x) = (p_1 - 1) e^{-\\lambda_2 x} - p_1 e^{-\\lambda_1 x} + C\n",
    "\\end{equation}\n",
    "\n",
    "_Note: In the code the constant of integration is set at 1._\n",
    "\n",
    "The __likelihood function__ for the two parameter model is as follows:\n",
    "\n",
    "\\begin{equation}\n",
    "L_{(p_1, \\lambda_1, \\lambda_2 | x)} = (p_1 \\lambda_1)^n e^{-\\lambda_1 \\sum_{i = 1}^{n}{x_i}} + ((1-p_1)\\lambda_2)^n e^{-\\lambda_2 \\sum_{i = 1}^{n}{x_i}}\n",
    "\\end{equation}\n",
    "\n",
    "The __log-likelihood__ is as follows:\n",
    "\n",
    "\\begin{equation}\n",
    "l_{(p_1, \\lambda_1, \\lambda_2 | x)} = n \\ln(p_1 \\lambda_1 + (1 - p) \\lambda_2)) - (\\lambda_1 + \\lambda_2)\\sum_{i = 1}^{n}{x_i}\n",
    "\\end{equation}\n",
    "\n"
   ]
  }
 ],
 "metadata": {
  "kernelspec": {
   "display_name": "Python 3",
   "language": "python",
   "name": "python3"
  },
  "language_info": {
   "codemirror_mode": {
    "name": "ipython",
    "version": 3
   },
   "file_extension": ".py",
   "mimetype": "text/x-python",
   "name": "python",
   "nbconvert_exporter": "python",
   "pygments_lexer": "ipython3",
   "version": "3.6.7"
  }
 },
 "nbformat": 4,
 "nbformat_minor": 2
}
