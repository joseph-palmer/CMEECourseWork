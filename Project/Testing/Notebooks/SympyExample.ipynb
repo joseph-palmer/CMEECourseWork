{
 "cells": [
  {
   "cell_type": "markdown",
   "metadata": {},
   "source": [
    "## Using Sympy for integration and other algebraic manipulations"
   ]
  },
  {
   "cell_type": "code",
   "execution_count": 20,
   "metadata": {},
   "outputs": [
    {
     "name": "stdout",
     "output_type": "stream",
     "text": [
      "r*exp(r*x)\n"
     ]
    },
    {
     "data": {
      "text/plain": [
       "array([  1.        ,   6.04964746,  36.59823444, 221.4064162 ])"
      ]
     },
     "execution_count": 20,
     "metadata": {},
     "output_type": "execute_result"
    }
   ],
   "source": [
    "import sympy\n",
    "import numpy as np\n",
    "\n",
    "# using equation r*e^(rx) for exponential distribution, get the cdf through integration\n",
    "\n",
    "# set the symbols to work with\n",
    "r = sympy.Symbol(\"r\")\n",
    "x = sympy.Symbol(\"x\")\n",
    "# set pdf equation to integrate\n",
    "pdf = \"r*sympy.exp(r*x)\"\n",
    "print(eval(pdf))\n",
    "# integrate to derive cdf\n",
    "eq = \"sympy.integrate({}, x)\".format(pdf)\n",
    "cdf = eval(eq)\n",
    "# convert to lambda function that can take numpy arguments\n",
    "f = sympy.lambdify((r, x), cdf, \"numpy\")\n",
    "# define data to put in function\n",
    "data = np.array([0, 1, 2, 3])\n",
    "rate = 1.8\n",
    "# run function to get result\n",
    "result = f(rate, data)\n",
    "result"
   ]
  }
 ],
 "metadata": {
  "kernelspec": {
   "display_name": "Python 3",
   "language": "python",
   "name": "python3"
  },
  "language_info": {
   "codemirror_mode": {
    "name": "ipython",
    "version": 3
   },
   "file_extension": ".py",
   "mimetype": "text/x-python",
   "name": "python",
   "nbconvert_exporter": "python",
   "pygments_lexer": "ipython3",
   "version": "3.6.8"
  }
 },
 "nbformat": 4,
 "nbformat_minor": 2
}
